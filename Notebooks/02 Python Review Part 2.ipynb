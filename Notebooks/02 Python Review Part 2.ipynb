{
 "cells": [
  {
   "cell_type": "markdown",
   "metadata": {},
   "source": [
    "# Python Review: Data Structures and Functions\n",
    "\n",
    "Reading:  *Python for Data Analysis*, Sections 3.1 and 3.2 from Chapter 3"
   ]
  },
  {
   "cell_type": "markdown",
   "metadata": {},
   "source": [
    "# Tuples\n",
    "\n",
    "A tuple is an immutable sequence of Python objects.  Tuples can be created with a comma-separated sequence of values.  Parentheses are not requires, but can be used for readability.   The keyword ``tuple`` is used to convert another object to a tuple.\n"
   ]
  },
  {
   "cell_type": "code",
   "execution_count": null,
   "metadata": {},
   "outputs": [],
   "source": [
    "tup = 1, 2, 3\n",
    "print(tup)"
   ]
  },
  {
   "cell_type": "code",
   "execution_count": null,
   "metadata": {},
   "outputs": [],
   "source": [
    "another_tup = (4,5,6,7)\n",
    "print(another_tup)"
   ]
  },
  {
   "cell_type": "code",
   "execution_count": null,
   "metadata": {},
   "outputs": [],
   "source": [
    "tuple_from_list = tuple([1,2,3])"
   ]
  },
  {
   "cell_type": "code",
   "execution_count": null,
   "metadata": {},
   "outputs": [],
   "source": [
    "# new tuples can be created from existing tuples\n",
    "tup + another_tup"
   ]
  },
  {
   "cell_type": "code",
   "execution_count": null,
   "metadata": {},
   "outputs": [],
   "source": [
    "tup * 3"
   ]
  },
  {
   "cell_type": "markdown",
   "metadata": {},
   "source": [
    "## Methods for tuples\n",
    "\n",
    "Since tuples are immutable, there aren't as many methods for tuples as for, say lists. \n",
    "\n",
    "``tup.count(x)`` will count the number of occurences of ``x``.  \n",
    "``tup.index(x)`` will return the first index of ``x`` and will give an error if ``x`` is not present"
   ]
  },
  {
   "cell_type": "code",
   "execution_count": null,
   "metadata": {},
   "outputs": [],
   "source": [
    "tup = (1,1,3,2)\n",
    "tup.count(1)"
   ]
  },
  {
   "cell_type": "code",
   "execution_count": null,
   "metadata": {},
   "outputs": [],
   "source": [
    "tup.index(1)"
   ]
  },
  {
   "cell_type": "code",
   "execution_count": null,
   "metadata": {},
   "outputs": [],
   "source": [
    "tup.index(4)"
   ]
  },
  {
   "cell_type": "markdown",
   "metadata": {},
   "source": [
    "## Tuple unpacking\n",
    "\n",
    "One of the great things about using tuples is their ability to be *unpacked*.  Tuple unpacking is when we extract values of the tuple into other variables."
   ]
  },
  {
   "cell_type": "code",
   "execution_count": null,
   "metadata": {},
   "outputs": [],
   "source": [
    "tup = (12, 7, 19, (1, 3, 5))\n",
    "a, b, c, d = tup"
   ]
  },
  {
   "cell_type": "code",
   "execution_count": null,
   "metadata": {},
   "outputs": [],
   "source": [
    "print(a)"
   ]
  },
  {
   "cell_type": "code",
   "execution_count": null,
   "metadata": {},
   "outputs": [],
   "source": [
    "print(d)"
   ]
  },
  {
   "cell_type": "code",
   "execution_count": null,
   "metadata": {},
   "outputs": [],
   "source": [
    "a, b, *rest = tup\n",
    "print(b)"
   ]
  },
  {
   "cell_type": "markdown",
   "metadata": {},
   "source": [
    "# Lists\n",
    "\n",
    "A list is a mutable sequence of Python objects.  Lists are defined with square brackets ``[`` ``]``.  The keyword ``list`` is used to convert another object (such as a tuple or a generator) to a list."
   ]
  },
  {
   "cell_type": "code",
   "execution_count": null,
   "metadata": {},
   "outputs": [],
   "source": [
    "my_list = [1, 2, 3]"
   ]
  },
  {
   "cell_type": "code",
   "execution_count": null,
   "metadata": {},
   "outputs": [],
   "source": [
    "another_list = list(tup)"
   ]
  },
  {
   "cell_type": "code",
   "execution_count": null,
   "metadata": {},
   "outputs": [],
   "source": [
    "print(another_list)"
   ]
  },
  {
   "cell_type": "code",
   "execution_count": null,
   "metadata": {},
   "outputs": [],
   "source": [
    "list(range(0,31,2))"
   ]
  },
  {
   "cell_type": "code",
   "execution_count": null,
   "metadata": {},
   "outputs": [],
   "source": [
    "#  a list can also be a list of lists\n",
    "list_of_lists = [[1,2,3], [4,5,6], [7,8,9]]\n",
    "print(list_of_lists)"
   ]
  },
  {
   "cell_type": "code",
   "execution_count": null,
   "metadata": {},
   "outputs": [],
   "source": [
    "list_of_lists[0] = 'Hello'\n",
    "list_of_lists"
   ]
  },
  {
   "cell_type": "markdown",
   "metadata": {},
   "source": [
    "## Common Methods for Lists\n",
    "\n",
    "Lists are mutable, meaning they can be changed after they are created.  Here are a few of the common methods for lists. (Note that most of these methods will change the list.)  All the methods can be shown by typing ``dir(list_object)`` or ``list_object.<tab>``\n",
    "\n",
    "The ``.index`` and ``.count`` work similar to the tuple methods.  Other common methods include:\n",
    "\n",
    "* ``my_list.append(x) #append an object to the end of a list``  \n",
    "* ``my_list.insert(index, x) #insert an object at a specific location (index will be the index of the inserted item)``   \n",
    "* ``my_list.extend(list) #append another list to a list``    \n",
    "* ``my_list.remove(value) #remove the first occurrence of value``   \n",
    "* ``my_list.pop(index) #remove and return the item at index (default is index = -1, the last element)``  \n",
    "* ``my_list.reverse() #reverse the list``    \n",
    "* ``my_list.sort() # sort the list ``"
   ]
  },
  {
   "cell_type": "code",
   "execution_count": null,
   "metadata": {},
   "outputs": [],
   "source": [
    "my_list = [1, 3, 5, 7, 9, 12]"
   ]
  },
  {
   "cell_type": "code",
   "execution_count": null,
   "metadata": {},
   "outputs": [],
   "source": [
    "# add the string \"fun\" to the end of my_list\n",
    "my_list.append('fun')"
   ]
  },
  {
   "cell_type": "code",
   "execution_count": null,
   "metadata": {},
   "outputs": [],
   "source": [
    "print(my_list)"
   ]
  },
  {
   "cell_type": "code",
   "execution_count": null,
   "metadata": {},
   "outputs": [],
   "source": [
    "# add the string \"data science\" between the numbers 3 and 5\n"
   ]
  },
  {
   "cell_type": "code",
   "execution_count": null,
   "metadata": {},
   "outputs": [],
   "source": [
    "# append the the strings \"i\", \"love\", and \"fun\" to the end of my_list in one line of code.\n"
   ]
  },
  {
   "cell_type": "code",
   "execution_count": null,
   "metadata": {},
   "outputs": [],
   "source": [
    "# remove the first \"fun\"\n"
   ]
  },
  {
   "cell_type": "code",
   "execution_count": null,
   "metadata": {},
   "outputs": [],
   "source": [
    "# remove and return the last element of my_list\n"
   ]
  },
  {
   "cell_type": "code",
   "execution_count": null,
   "metadata": {},
   "outputs": [],
   "source": [
    "# remove and return the number 5 in my_list\n"
   ]
  },
  {
   "cell_type": "code",
   "execution_count": null,
   "metadata": {},
   "outputs": [],
   "source": [
    "print(my_list)"
   ]
  },
  {
   "cell_type": "code",
   "execution_count": null,
   "metadata": {},
   "outputs": [],
   "source": [
    "#  sort my_list.  Does it make sense to sort this list?   "
   ]
  },
  {
   "cell_type": "code",
   "execution_count": null,
   "metadata": {},
   "outputs": [],
   "source": [
    "my_numbers = [34, 0, 1, 2, 5, 3, 1, 13, 8, 21]\n",
    "my_numbers.sort()\n",
    "print(my_numbers)"
   ]
  },
  {
   "cell_type": "code",
   "execution_count": null,
   "metadata": {},
   "outputs": [],
   "source": [
    "#  Lists of strings will be sorted alphabetically, with capital letters first, then lower case\n",
    "my_words = [\"I\", \"Love\", \"data\", \"science\", \"It\", \"is\", \"Fun\"]\n",
    "my_words.sort()\n",
    "print(my_words)"
   ]
  },
  {
   "cell_type": "markdown",
   "metadata": {},
   "source": [
    "Note that there is also a function called sorted that will sort a list without changing the list."
   ]
  },
  {
   "cell_type": "code",
   "execution_count": null,
   "metadata": {},
   "outputs": [],
   "source": [
    "my_words = [\"I\", \"Love\", \"data\", \"science\", \"It\", \"is\", \"Fun\"]\n",
    "sorted(my_words)"
   ]
  },
  {
   "cell_type": "code",
   "execution_count": null,
   "metadata": {},
   "outputs": [],
   "source": [
    "print(my_words)"
   ]
  },
  {
   "cell_type": "markdown",
   "metadata": {},
   "source": [
    "## Indexing and Slicing\n",
    "\n",
    "Before moving on to dictionaries, let's talk about indexing and slicing.  As we've said, the index for Python objects begins at 0.  Indexing of most (maybe all) indexable objects is done with bracket notation.  Python also supports negative indexing, so index -1 is the last element, -2 is the second to last, etc."
   ]
  },
  {
   "cell_type": "code",
   "execution_count": null,
   "metadata": {},
   "outputs": [],
   "source": [
    "my_string = \"James Hathaway\"\n",
    "my_list = [0, 1, 1, 2, 3, 5, 8, 21, 34]\n",
    "my_tuple = (4, 5, 6)"
   ]
  },
  {
   "cell_type": "code",
   "execution_count": null,
   "metadata": {},
   "outputs": [],
   "source": [
    "my_string[0]"
   ]
  },
  {
   "cell_type": "code",
   "execution_count": null,
   "metadata": {},
   "outputs": [],
   "source": [
    "my_list[-2]"
   ]
  },
  {
   "cell_type": "code",
   "execution_count": null,
   "metadata": {},
   "outputs": [],
   "source": [
    "my_tuple[3]"
   ]
  },
  {
   "cell_type": "markdown",
   "metadata": {},
   "source": [
    "Slicing means selecting sections of objects.  Basic form of slice notation is ``start:stop``.  Note that the ``start`` index is included, but the ``stop`` index is excluded.  The ``start`` and ``stop`` indexes can be omitted, in which case they default to the start and end of the sequence, respectively.\n",
    "\n",
    "A third argument will add a step size, ``start:stop:step``.   "
   ]
  },
  {
   "cell_type": "code",
   "execution_count": null,
   "metadata": {},
   "outputs": [],
   "source": [
    "# Get the word \"James\" from my_string"
   ]
  },
  {
   "cell_type": "code",
   "execution_count": null,
   "metadata": {},
   "outputs": [],
   "source": [
    "# From my_list, get the numbers 5, 8, 21, and 34"
   ]
  },
  {
   "cell_type": "code",
   "execution_count": null,
   "metadata": {},
   "outputs": [],
   "source": [
    "# From my_list, get the numbers 1, 1, 2, 3"
   ]
  },
  {
   "cell_type": "code",
   "execution_count": null,
   "metadata": {},
   "outputs": [],
   "source": [
    "# From my_string, get every other character\n"
   ]
  },
  {
   "cell_type": "code",
   "execution_count": null,
   "metadata": {},
   "outputs": [],
   "source": [
    "# reverse my_list (without changing it)\n"
   ]
  },
  {
   "cell_type": "markdown",
   "metadata": {},
   "source": [
    "# Dictionaries\n",
    "\n",
    "Dictionaries or ``dict`` objects are mappings, which are a collection of unordered objects that are stored by a key.  These are similar to hash tables from other languages.\n",
    "\n",
    "## Constructing a Dictionary\n",
    "\n",
    "Dictionaries can be constructed with curly braces ``{key:value,...}``.    The *values* of a ``dict`` object can be any Python object, but the *keys* generally should to be scalars, like integers or strings.  (The keys actually need to be hashable objects which will be true for most immutable objects)."
   ]
  },
  {
   "cell_type": "code",
   "execution_count": null,
   "metadata": {},
   "outputs": [],
   "source": [
    "my_dict = {'key1': 12, 'key2': 13, 'key3': 14}"
   ]
  },
  {
   "cell_type": "code",
   "execution_count": null,
   "metadata": {},
   "outputs": [],
   "source": [
    "dict_two = {1:'Country',2:'County',3:'City', 4:'Zip', 5:'Street'}"
   ]
  },
  {
   "cell_type": "code",
   "execution_count": null,
   "metadata": {},
   "outputs": [],
   "source": [
    "another_dict = {'A': 456, 'B': [1, 2 ,3], 'C': (42, 'Answer')}"
   ]
  },
  {
   "cell_type": "code",
   "execution_count": null,
   "metadata": {},
   "outputs": [],
   "source": [
    "# call items from the dictionary with the key\n",
    "dict_two[4]"
   ]
  },
  {
   "cell_type": "code",
   "execution_count": null,
   "metadata": {},
   "outputs": [],
   "source": [
    "another_dict['C']"
   ]
  },
  {
   "cell_type": "code",
   "execution_count": null,
   "metadata": {},
   "outputs": [],
   "source": [
    "another_dict['C'][1]"
   ]
  },
  {
   "cell_type": "code",
   "execution_count": null,
   "metadata": {},
   "outputs": [],
   "source": [
    "# Check if a dict contains a certain key\n",
    "1 in dict_two"
   ]
  },
  {
   "cell_type": "code",
   "execution_count": null,
   "metadata": {},
   "outputs": [],
   "source": [
    "1 in another_dict"
   ]
  },
  {
   "cell_type": "markdown",
   "metadata": {},
   "source": [
    "Dictionaries can also be constructed from a sequences of 2-tuples or built up from an empty dictionary."
   ]
  },
  {
   "cell_type": "code",
   "execution_count": null,
   "metadata": {},
   "outputs": [],
   "source": [
    "tups = (('Dog','Bark'), ('Duck','Quack'), ('Cow','Moo'), ('Cat','Meow'))\n",
    "tups"
   ]
  },
  {
   "cell_type": "code",
   "execution_count": null,
   "metadata": {},
   "outputs": [],
   "source": [
    "dict(tups)"
   ]
  },
  {
   "cell_type": "code",
   "execution_count": null,
   "metadata": {},
   "outputs": [],
   "source": [
    "d = {}\n",
    "d"
   ]
  },
  {
   "cell_type": "code",
   "execution_count": null,
   "metadata": {},
   "outputs": [],
   "source": [
    "# Built from empty\n",
    "d = {}\n",
    "d['Dog'] = 'Bark'\n",
    "d['Duck'] = 'Quack'\n",
    "d"
   ]
  },
  {
   "cell_type": "markdown",
   "metadata": {},
   "source": [
    "It is somewhat common to build up a dictionary in a loop. For example, let's build a dictionary that takes a list of words and categorizes them alphabetically."
   ]
  },
  {
   "cell_type": "code",
   "execution_count": null,
   "metadata": {},
   "outputs": [],
   "source": [
    "list_of_words = ['blue', 'red', 'Read', 'apple', 'Baseball', 'bear', 'car']"
   ]
  },
  {
   "cell_type": "code",
   "execution_count": null,
   "metadata": {},
   "outputs": [],
   "source": [
    "d = {}\n",
    "for word in list_of_words:\n",
    "    first_letter = word[0].lower()\n",
    "    if first_letter in d:\n",
    "        d[first_letter].append(word)\n",
    "    else:\n",
    "        d[first_letter] = [word]\n",
    "\n",
    "d"
   ]
  },
  {
   "cell_type": "markdown",
   "metadata": {},
   "source": [
    "## Some Methods for Dictionaries"
   ]
  },
  {
   "cell_type": "code",
   "execution_count": null,
   "metadata": {},
   "outputs": [],
   "source": [
    "# return a list of keys\n",
    "d.keys()"
   ]
  },
  {
   "cell_type": "code",
   "execution_count": null,
   "metadata": {},
   "outputs": [],
   "source": [
    "# return a list of values\n",
    "d.values()"
   ]
  },
  {
   "cell_type": "code",
   "execution_count": null,
   "metadata": {},
   "outputs": [],
   "source": [
    "# return tuples of keys and values\n",
    "d.items()"
   ]
  },
  {
   "cell_type": "markdown",
   "metadata": {},
   "source": [
    "# Sets\n",
    "\n",
    "A set is an unordered collection of unique elements.  Sets can be created with the ``set`` function or with curly braces."
   ]
  },
  {
   "cell_type": "code",
   "execution_count": null,
   "metadata": {},
   "outputs": [],
   "source": [
    "A = set([1,2,3,3,4,5])\n",
    "A"
   ]
  },
  {
   "cell_type": "code",
   "execution_count": null,
   "metadata": {},
   "outputs": [],
   "source": [
    "B = {2, 3, 2, 3, 2, 3, 4}\n",
    "B"
   ]
  },
  {
   "cell_type": "markdown",
   "metadata": {},
   "source": [
    "Sets support mathematical set operations like union, intersection, difference, etc.  "
   ]
  },
  {
   "cell_type": "markdown",
   "metadata": {},
   "source": [
    "# List Comprehensions\n",
    "\n",
    "List comprehensions are a way to create a list from another list (or collection) that might normally need to be created with a ``for`` loop. \n",
    "\n",
    "The general form of a list comprension is \n",
    "~~~~\n",
    "[expression for val in collection if condition]\n",
    "~~~~\n",
    "and is equivalent to \n",
    "~~~~\n",
    "result = []\n",
    "for val in collection:\n",
    "    if condition:\n",
    "        result.append(expression)\n",
    "~~~~\n",
    "(the filter condition can optionally be left out if not required.)\n",
    "\n",
    "For example, find a list of numbers from 1 to 100 that are divisible by 7."
   ]
  },
  {
   "cell_type": "code",
   "execution_count": null,
   "metadata": {},
   "outputs": [],
   "source": [
    "result = []\n",
    "for num in range(1,101):\n",
    "    if num % 7 == 0:\n",
    "        result.append(num)\n",
    "result"
   ]
  },
  {
   "cell_type": "code",
   "execution_count": null,
   "metadata": {},
   "outputs": [],
   "source": [
    "# as a list comprehension\n",
    "# [expression for val in collection if condition]\n",
    "result = [num**2 for num in range(1,100) if num % 7 == 0]\n",
    "result"
   ]
  },
  {
   "cell_type": "markdown",
   "metadata": {},
   "source": [
    "## Dictionary and Set Comprehensions\n",
    "\n",
    "Dictionary and sets can be created in a similar way.\n",
    "\n",
    "~~~~\n",
    "# dictionary comprehension\n",
    "d = {key-expression : value-expression for value in collection if condition}\n",
    "\n",
    "# set comprehesnion\n",
    "s = {expression for val in collection if condition}\n",
    "~~~~\n",
    "\n",
    "As an example, let's create a dictionary where the key is a number between 1 and 20 that is divisible by 2 and the value is a list of the square and cube of the number.   "
   ]
  },
  {
   "cell_type": "code",
   "execution_count": null,
   "metadata": {},
   "outputs": [],
   "source": [
    "d = {}\n",
    "for num in range(1,21):\n",
    "    if num % 2 == 0:\n",
    "        d[num] = [num**2, num**3]\n",
    "d"
   ]
  },
  {
   "cell_type": "code",
   "execution_count": null,
   "metadata": {},
   "outputs": [],
   "source": [
    "# as a dictionary comprehension\n",
    "{num: [num**2, num**3] for num in range(1,21) if num % 2 == 0}"
   ]
  },
  {
   "cell_type": "markdown",
   "metadata": {},
   "source": [
    "# Functions\n",
    "\n",
    "A function is a way to organize and reuse code.  Functions in Python are created with the ``def`` statement and take the following form:\n",
    "\n",
    "~~~~\n",
    "def name_of_function(arg1, arg2, more_args):\n",
    "    '''\n",
    "    Docstring that describes what the function does\n",
    "    '''\n",
    "    \n",
    "    expression\n",
    "    return\n",
    "~~~~"
   ]
  },
  {
   "cell_type": "code",
   "execution_count": null,
   "metadata": {},
   "outputs": [],
   "source": [
    "def long_name(name):\n",
    "    '''\n",
    "    This function takes a name as input and returns True if the name is long\n",
    "    and False if the name is short.\n",
    "    '''\n",
    "    val = 1 if len(name) > 7 else 0\n",
    "    return bool(val)\n",
    "\n",
    "    "
   ]
  },
  {
   "cell_type": "code",
   "execution_count": null,
   "metadata": {},
   "outputs": [],
   "source": [
    "long_name('Shannon')"
   ]
  },
  {
   "cell_type": "code",
   "execution_count": null,
   "metadata": {},
   "outputs": [],
   "source": [
    "long_name('Stephanie')"
   ]
  },
  {
   "cell_type": "code",
   "execution_count": null,
   "metadata": {},
   "outputs": [],
   "source": [
    "def long_name_n(name, n):\n",
    "    '''\n",
    "    This function returns True if name has greater than n letters and False otherwise\n",
    "    '''\n",
    "    val = 1 if len(name) > n else 0\n",
    "    return bool(val)\n"
   ]
  },
  {
   "cell_type": "code",
   "execution_count": null,
   "metadata": {},
   "outputs": [],
   "source": [
    "long_name_n('Shannon', 3)"
   ]
  },
  {
   "cell_type": "code",
   "execution_count": null,
   "metadata": {},
   "outputs": [],
   "source": [
    "long_name_n('Shannon', 3)"
   ]
  },
  {
   "cell_type": "code",
   "execution_count": null,
   "metadata": {},
   "outputs": [],
   "source": [
    "long_name_n('Frank', 5)"
   ]
  },
  {
   "cell_type": "code",
   "execution_count": null,
   "metadata": {},
   "outputs": [],
   "source": [
    "def long_name_n(name, n=7):\n",
    "    '''\n",
    "    This function returns True if name has greater than n letters and False otherwise\n",
    "    '''\n",
    "    val = 1 if len(name) > n else 0\n",
    "    return bool(val)\n"
   ]
  },
  {
   "cell_type": "code",
   "execution_count": null,
   "metadata": {},
   "outputs": [],
   "source": [
    "long_name_n('Shannon')"
   ]
  },
  {
   "cell_type": "code",
   "execution_count": null,
   "metadata": {},
   "outputs": [],
   "source": [
    "long_name_n('Shannon', 3)"
   ]
  },
  {
   "cell_type": "markdown",
   "metadata": {},
   "source": [
    "# Lambda Expressions (Anonymous Functions)\n",
    "\n",
    "Lambda expressions are single statement functions that are so-called anonymous because they aren't given a name.  They are declared with the keyword ``lambda``.  Lambda expressions are of the form\n",
    "\n",
    "~~~~\n",
    "lambda argument(s) : expression\n",
    "~~~~\n",
    "\n",
    "There are some functions (two examples are the ``map`` and ``filter`` functions) that take as input another function.  A lambda expression is a way to define an input function without actually defining a formal function.  It is like a temporary function that will only be used once."
   ]
  },
  {
   "cell_type": "code",
   "execution_count": null,
   "metadata": {},
   "outputs": [],
   "source": [
    "my_names = ['Lewis', 'Hathaway', 'Hobson', 'Innocent']"
   ]
  },
  {
   "cell_type": "code",
   "execution_count": null,
   "metadata": {},
   "outputs": [],
   "source": [
    "def reverse_name(name):\n",
    "    return name[::-1]\n",
    "\n",
    "list(map(reverse_name, my_names))"
   ]
  },
  {
   "cell_type": "code",
   "execution_count": null,
   "metadata": {},
   "outputs": [],
   "source": [
    "list(map(lambda y : y[::-1], my_names))"
   ]
  },
  {
   "cell_type": "code",
   "execution_count": null,
   "metadata": {},
   "outputs": [],
   "source": []
  },
  {
   "cell_type": "code",
   "execution_count": null,
   "metadata": {},
   "outputs": [],
   "source": [
    "long_name()"
   ]
  }
 ],
 "metadata": {
  "kernelspec": {
   "display_name": "Python 3",
   "language": "python",
   "name": "python3"
  },
  "language_info": {
   "codemirror_mode": {
    "name": "ipython",
    "version": 3
   },
   "file_extension": ".py",
   "mimetype": "text/x-python",
   "name": "python",
   "nbconvert_exporter": "python",
   "pygments_lexer": "ipython3",
   "version": "3.8.5"
  }
 },
 "nbformat": 4,
 "nbformat_minor": 2
}
